{
 "cells": [
  {
   "cell_type": "code",
   "execution_count": 2,
   "id": "d260e6bd",
   "metadata": {},
   "outputs": [],
   "source": [
    "from tensorflow.keras.preprocessing.text import Tokenizer"
   ]
  },
  {
   "cell_type": "code",
   "execution_count": 6,
   "id": "ccef3266",
   "metadata": {},
   "outputs": [],
   "source": [
    "t=Tokenizer()\n",
    "text=\"\"\"Deep learning is part of a broader family of machine learning methods based\"\"\""
   ]
  },
  {
   "cell_type": "code",
   "execution_count": 7,
   "id": "474ecec6",
   "metadata": {},
   "outputs": [
    {
     "name": "stdout",
     "output_type": "stream",
     "text": [
      "단어 집합 :  {'learning': 1, 'of': 2, 'deep': 3, 'is': 4, 'part': 5, 'a': 6, 'broader': 7, 'family': 8, 'machine': 9, 'methods': 10, 'based': 11}\n"
     ]
    }
   ],
   "source": [
    "t.fit_on_texts([text])\n",
    "print(\"단어 집합 : \",t.word_index)"
   ]
  },
  {
   "cell_type": "markdown",
   "id": "e182b7c0",
   "metadata": {},
   "source": [
    "케라스는 텍스트 데이터를 처리하는 신셩망에 사용할 수 있는 Embedding 레이어를 제공\n",
    "* Embedding 레이어의 입력 데이터는 정수 인코딩되어서, 각 단어가 고유한 정수로 표현\n",
    "e=Embedding(input_dim,output_dim,input_length=100)\n",
    "* input dim : 이것은 텍스트 데이터의 어휘 크기이다. 예를 들어 데이터가 0~9사이의 값으로 정수 인코딩된 경우 어휘의 크기는 10이 된다.\n",
    "* output_dim : 이것은 단어가 표현되는 벡터 공간의 크기이다. 각 단어에 대해 이 레이어의 출력 벡터 크기를 정의한다. 예를 들어 32 또는 100이상일 수 잇다.\n",
    "* input_length : 입력 시퀀스의 길이이다. 예를 들어 모든 입력 문서가 100개의 단어로 구성되어 있으면 100이 된다.\n",
    "* 입력 형태 : 2D텐서(batch_size, sequence_length)의 형태이다. 정수 인코딩 형태이어야 한다. 즉 정수의 시퀀스이어야 한다.\n",
    "* 출력 형태 : 3D 텐서(batch_size, sequence_length,output_dim) 형태이다."
   ]
  },
  {
   "cell_type": "code",
   "execution_count": 8,
   "id": "47c631a0",
   "metadata": {},
   "outputs": [
    {
     "name": "stdout",
     "output_type": "stream",
     "text": [
      "Deep learning is part of a broader family of machine learning methods based -> [3, 1, 4, 5, 2, 6, 7, 8, 2, 9, 1, 10, 11]\n"
     ]
    }
   ],
   "source": [
    "seq=t.texts_to_sequences([text])[0]\n",
    "print(text,\"->\",seq)"
   ]
  },
  {
   "cell_type": "code",
   "execution_count": 9,
   "id": "93539655",
   "metadata": {},
   "outputs": [
    {
     "name": "stdout",
     "output_type": "stream",
     "text": [
      "[[7 8 9]\n",
      " [3 4 5]\n",
      " [0 0 7]]\n"
     ]
    }
   ],
   "source": [
    "from tensorflow.keras.preprocessing.sequence import pad_sequences\n",
    "\n",
    "X=pad_sequences([[7,8,9],[1,2,3,4,5],[7]],maxlen=3,padding='pre')\n",
    "print(X)"
   ]
  },
  {
   "cell_type": "markdown",
   "id": "3ac8bbdd",
   "metadata": {},
   "source": [
    "# 케라스 Embedding 레이어\n",
    "* 케라스는 텍스트 데이터를 처리하는 신셩망에 사용할 수 있는 Embedding 레이어를 제공\n",
    "    * Embedding 레이어의 입력 데이터는 정수 인코딩되어서, 각 단어가 고유한 정수로 표현\n",
    "* e = Embedding(input_dim, output_dim, input_length=100)\n",
    "    * input_dim : 이것은 텍스트 데이터의 어휘 크기이다. 예를 들어 데이터가 0~9 사이의 값으로 정수 인코딩된 경우 어휘의 크기는 10이 된다.\n",
    "    * output_dim : 이것은 단어가 표현되는 벡터 공간의 크기이다. 예를 들어 32 또는 100이상일 수 있다.\n",
    "    * input_length : 입력 시퀀스의 길이이다. 예를 들어 모든 입력 문서가 100개의 단어로 구성되어 있으면 100이 된다.\n",
    "    * 입력 형태 : 2D 텐서(batch_size, sequence_length)의 형태이다. 정수 인코딩 형태이어야 한다. 즉 정수의 시퀀스이어야 한다.\n",
    "    * 출력 형태 : 3D 텐서(batch_size, sequence_length, output_dim)의 형태이다."
   ]
  },
  {
   "cell_type": "code",
   "execution_count": 12,
   "id": "d36712eb",
   "metadata": {},
   "outputs": [
    {
     "name": "stdout",
     "output_type": "stream",
     "text": [
      "1/1 [==============================] - 0s 216ms/step\n",
      "출력 =  (32, 3, 4)\n"
     ]
    }
   ],
   "source": [
    "import numpy as np\n",
    "from tensorflow.keras.layers import Embedding\n",
    "from tensorflow.keras.models import Sequential\n",
    "\n",
    "# 입력 형태 : (batch_size, input_length) = (32,3)\n",
    "# 출력 형태 : (None, 3, 4)\n",
    "model = Sequential()\n",
    "model.add(Embedding(100,4,input_length=3))\n",
    "\n",
    "input_array = np.random.randint(100,size=(32,3))\n",
    "model.compile('rmsprop','mse')\n",
    "output_array=model.predict(input_array)\n",
    "print('출력 = ', output_array.shape)"
   ]
  },
  {
   "cell_type": "markdown",
   "id": "e836256b",
   "metadata": {},
   "source": [
    "# 스팸 메일 분류하기"
   ]
  },
  {
   "cell_type": "code",
   "execution_count": 18,
   "id": "010a4a91",
   "metadata": {},
   "outputs": [
    {
     "name": "stdout",
     "output_type": "stream",
     "text": [
      "[[1, 5], [23, 26], [17, 43], [12, 13], [10, 42, 12], [29, 7, 4], [36, 25, 43], [30, 37, 1], [9, 24, 27], [20, 48, 15]]\n"
     ]
    }
   ],
   "source": [
    "import numpy as np\n",
    "from tensorflow.keras.layers import Embedding,Flatten,Dense\n",
    "from tensorflow.keras.models import Sequential\n",
    "from tensorflow.keras.preprocessing.text import one_hot\n",
    "from tensorflow.keras.preprocessing.sequence import pad_sequences\n",
    "\n",
    "\n",
    "docs= ['additional income',\n",
    "'best price',\n",
    "'big bucks',\n",
    "'cash bonus',\n",
    "'earn extra cash',\n",
    "'spring savings certificate',\n",
    "'valero gas marketing',\n",
    "'all domestic employees',\n",
    "'nominations for oct',\n",
    "'confirmation from spinner']\n",
    "\n",
    "labels = np.array([1,1,1,1,1,0,0,0,0,0])\n",
    "\n",
    "vocab_size = 50\n",
    "encoded_docs = [one_hot(d,vocab_size) for d in docs]\n",
    "print(encoded_docs)"
   ]
  },
  {
   "cell_type": "code",
   "execution_count": 19,
   "id": "16490558",
   "metadata": {},
   "outputs": [
    {
     "name": "stdout",
     "output_type": "stream",
     "text": [
      "[[ 1  5  0  0]\n",
      " [23 26  0  0]\n",
      " [17 43  0  0]\n",
      " [12 13  0  0]\n",
      " [10 42 12  0]\n",
      " [29  7  4  0]\n",
      " [36 25 43  0]\n",
      " [30 37  1  0]\n",
      " [ 9 24 27  0]\n",
      " [20 48 15  0]]\n",
      "shape =  (10, 4)\n"
     ]
    }
   ],
   "source": [
    "max_length = 4\n",
    "padded_docs = pad_sequences(encoded_docs,max_length,padding='post')\n",
    "print(padded_docs)\n",
    "print('shape = ',padded_docs.shape)"
   ]
  },
  {
   "cell_type": "code",
   "execution_count": 20,
   "id": "121e6129",
   "metadata": {},
   "outputs": [
    {
     "name": "stdout",
     "output_type": "stream",
     "text": [
      "정확도= 1.0\n"
     ]
    }
   ],
   "source": [
    "model = Sequential()\n",
    "model.add(Embedding(vocab_size,8,input_length=max_length))\n",
    "model.add(Flatten())\n",
    "model.add(Dense(1,activation='sigmoid'))\n",
    "\n",
    "model.compile(optimizer='adam',loss='binary_crossentropy',metrics=['accuracy'])\n",
    "\n",
    "model.fit(padded_docs,labels,epochs=50,verbose=0)\n",
    "loss,accuracy = model.evaluate(padded_docs,labels,verbose=0)\n",
    "print('정확도=',accuracy)"
   ]
  },
  {
   "cell_type": "code",
   "execution_count": 27,
   "id": "4c353004",
   "metadata": {},
   "outputs": [
    {
     "name": "stdout",
     "output_type": "stream",
     "text": [
      "1/1 [==============================] - 0s 16ms/step\n",
      "[[0.55819374]]\n"
     ]
    }
   ],
   "source": [
    "test_doc=['cash income']\n",
    "encoded_docs = [one_hot(d,vocab_size)for d in test_doc]\n",
    "padded_docs=pad_sequences(encoded_docs,maxlen=max_length,padding='post')\n",
    "\n",
    "print(model.predict(padded_docs))"
   ]
  },
  {
   "cell_type": "code",
   "execution_count": null,
   "id": "cefcbae2",
   "metadata": {},
   "outputs": [],
   "source": []
  }
 ],
 "metadata": {
  "kernelspec": {
   "display_name": "Python 3 (ipykernel)",
   "language": "python",
   "name": "python3"
  },
  "language_info": {
   "codemirror_mode": {
    "name": "ipython",
    "version": 3
   },
   "file_extension": ".py",
   "mimetype": "text/x-python",
   "name": "python",
   "nbconvert_exporter": "python",
   "pygments_lexer": "ipython3",
   "version": "3.8.16"
  }
 },
 "nbformat": 4,
 "nbformat_minor": 5
}
