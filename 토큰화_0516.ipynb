{
 "cells": [
  {
   "cell_type": "code",
   "execution_count": 3,
   "id": "c6c3a53a",
   "metadata": {},
   "outputs": [],
   "source": [
    "import nltk\n",
    "from nltk.tokenize import word_tokenize"
   ]
  },
  {
   "cell_type": "code",
   "execution_count": 5,
   "id": "36196088",
   "metadata": {},
   "outputs": [
    {
     "name": "stdout",
     "output_type": "stream",
     "text": [
      "showing info https://raw.githubusercontent.com/nltk/nltk_data/gh-pages/index.xml\n"
     ]
    },
    {
     "data": {
      "text/plain": [
       "True"
      ]
     },
     "execution_count": 5,
     "metadata": {},
     "output_type": "execute_result"
    }
   ],
   "source": [
    "nltk.download()"
   ]
  },
  {
   "cell_type": "code",
   "execution_count": 6,
   "id": "1aff5095",
   "metadata": {},
   "outputs": [
    {
     "name": "stdout",
     "output_type": "stream",
     "text": [
      "['Hello', 'World', '!', ',', 'This', 'is', 'a', 'dog', '.']\n",
      "['Hello', 'World', 'This', 'is', 'a', 'dog']\n"
     ]
    }
   ],
   "source": [
    "tokens = word_tokenize(\"Hello World!, This is a dog.\")\n",
    "print(tokens)\n",
    "\n",
    "\n",
    "words=[word for word in tokens if word.isalpha()]\n",
    "print(words)"
   ]
  },
  {
   "cell_type": "code",
   "execution_count": 7,
   "id": "47560026",
   "metadata": {},
   "outputs": [
    {
     "name": "stdout",
     "output_type": "stream",
     "text": [
      "['i', 'me', 'my', 'myself', 'we', 'our', 'ours', 'ourselves', 'you', \"you're\", \"you've\", \"you'll\", \"you'd\", 'your', 'yours', 'yourself', 'yourselves', 'he', 'him', 'his']\n"
     ]
    }
   ],
   "source": [
    "from nltk.corpus import stopwords\n",
    "print(stopwords.words('english')[:20])"
   ]
  },
  {
   "cell_type": "code",
   "execution_count": 11,
   "id": "b505578c",
   "metadata": {},
   "outputs": [
    {
     "name": "stdout",
     "output_type": "stream",
     "text": [
      "['th', 's ', 's a dog']\n"
     ]
    }
   ],
   "source": [
    "from tensorflow.keras.preprocessing.text import *\n",
    "print(text_to_word_sequence(\"This is a dog.\")"
   ]
  },
  {
   "cell_type": "markdown",
   "id": "5ebeedc8",
   "metadata": {},
   "source": [
    "* 중복 처리\n",
    "* 우선순위는 중복이 많을수록 높다"
   ]
  },
  {
   "cell_type": "code",
   "execution_count": 13,
   "id": "9aec7a68",
   "metadata": {},
   "outputs": [
    {
     "name": "stdout",
     "output_type": "stream",
     "text": [
      "단어 집합 :  {'learning': 1, 'of': 2, 'deep': 3, 'is': 4, 'part': 5, 'a': 6, 'broader': 7, 'family': 8, 'machine': 9, 'methods': 10, 'base': 11, 'on': 12, 'artificial': 13, 'neural': 14, 'networks': 15, 'with': 16, 'representation': 17}\n"
     ]
    }
   ],
   "source": [
    "t=Tokenizer()\n",
    "text=\"\"\"Deep learning is part of a broader family of machine learning methods base on \n",
    "artificial neural networks with representation learning\"\"\"\n",
    "t.fit_on_texts([text])\n",
    "print(\"단어 집합 : \",t.word_index)"
   ]
  },
  {
   "cell_type": "code",
   "execution_count": null,
   "id": "d7ec1d54",
   "metadata": {},
   "outputs": [],
   "source": []
  },
  {
   "cell_type": "markdown",
   "id": "9941cd99",
   "metadata": {},
   "source": [
    "## [0]을 붙여주는 이유\n",
    "= t.texts_to_sequences([text])가 2차원 리스트이기 때문이다."
   ]
  },
  {
   "cell_type": "code",
   "execution_count": 15,
   "id": "83a6f71e",
   "metadata": {},
   "outputs": [
    {
     "name": "stdout",
     "output_type": "stream",
     "text": [
      "Deep learning is part of a broader family of machine learning methods base on \n",
      "artificial neural networks with representation learning -> [3, 1, 4, 5, 2, 6, 7, 8, 2, 9, 1, 10, 11, 12, 13, 14, 15, 16, 17, 1]\n"
     ]
    }
   ],
   "source": [
    "seq = t.texts_to_sequences([text])[0]\n",
    "print(text,\"->\",seq)"
   ]
  },
  {
   "cell_type": "code",
   "execution_count": 17,
   "id": "0646a575",
   "metadata": {},
   "outputs": [
    {
     "data": {
      "text/plain": [
       "[[3, 1, 4, 5, 2, 6, 7, 8, 2, 9, 1, 10, 11, 12, 13, 14, 15, 16, 17, 1]]"
      ]
     },
     "execution_count": 17,
     "metadata": {},
     "output_type": "execute_result"
    }
   ],
   "source": [
    "seq2=t.texts_to_sequences([text])"
   ]
  },
  {
   "cell_type": "markdown",
   "id": "13b5f0a1",
   "metadata": {},
   "source": [
    "* text_to_word_sequence <- 토큰화\n",
    "* fits_on_texts <- 단어 사전 생성\n",
    "* texts_tosequences <- 정수 인코딩\n",
    "* pad_sequences <- 입력값 크기 통일"
   ]
  },
  {
   "cell_type": "code",
   "execution_count": 18,
   "id": "98d1b284",
   "metadata": {},
   "outputs": [],
   "source": [
    "from tensorflow.keras.preprocessing.sequence import pad_sequences"
   ]
  },
  {
   "cell_type": "code",
   "execution_count": 19,
   "id": "5468efbd",
   "metadata": {},
   "outputs": [
    {
     "name": "stdout",
     "output_type": "stream",
     "text": [
      "[[7 8 9]\n",
      " [3 4 5]\n",
      " [0 0 7]]\n"
     ]
    }
   ],
   "source": [
    "X=pad_sequences([[7,8,9],[1,2,3,4,5],[7]],maxlen=3,padding='pre')\n",
    "print(X)"
   ]
  },
  {
   "cell_type": "markdown",
   "id": "ac44c0d2",
   "metadata": {},
   "source": [
    "pad_sequences(sequences, maxlen=None, padding='pre', truncating='pre',value=0.0)\n",
    "* sequences = 패딩이 수행되는 시퀀스 데이터\n",
    "* maxlen = 샘플의 최대 길이\n",
    "* padding = 'pre' 이면 앞에서 0을 채우고 'post'이면 뒤에 0을 채운다"
   ]
  },
  {
   "cell_type": "code",
   "execution_count": null,
   "id": "37300197",
   "metadata": {},
   "outputs": [],
   "source": []
  }
 ],
 "metadata": {
  "kernelspec": {
   "display_name": "Python 3 (ipykernel)",
   "language": "python",
   "name": "python3"
  },
  "language_info": {
   "codemirror_mode": {
    "name": "ipython",
    "version": 3
   },
   "file_extension": ".py",
   "mimetype": "text/x-python",
   "name": "python",
   "nbconvert_exporter": "python",
   "pygments_lexer": "ipython3",
   "version": "3.8.16"
  }
 },
 "nbformat": 4,
 "nbformat_minor": 5
}
